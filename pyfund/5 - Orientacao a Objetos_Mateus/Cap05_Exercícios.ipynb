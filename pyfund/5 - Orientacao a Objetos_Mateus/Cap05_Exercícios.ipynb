{
 "cells": [
  {
   "cell_type": "code",
   "execution_count": 1,
   "metadata": {},
   "outputs": [
    {
     "name": "stdout",
     "output_type": "stream",
     "text": [
      "Versão da Linguagem Python Usada Neste Jupyter Notebook:  3.7.3\n"
     ]
    }
   ],
   "source": [
    "#versão da Linguagem Python\n",
    "from platform import python_version\n",
    "print('Versão da Linguagem Python Usada Neste Jupyter Notebook: ',python_version())"
   ]
  },
  {
   "cell_type": "code",
   "execution_count": 2,
   "metadata": {},
   "outputs": [],
   "source": [
    "# Exercício 1 - Crie um objeto a partir da classe abaixo, chamado roc1\n",
    "# passando 2 parâmetros e depois faça uma chamada aos atributos e métodos\n",
    "from math import sqrt\n",
    "\n",
    "class Rocket():\n",
    "    \n",
    "    def __init__(self, x=0, y=0):\n",
    "        self.x = x\n",
    "        self.y = y\n",
    "        \n",
    "    def move_rocket(self, x_increment=10, y_increment=11):\n",
    "        self.x += x_increment\n",
    "        self.y += y_increment\n",
    "        \n",
    "    def print_rocket(self):\n",
    "        print(self.x, self.y)\n",
    "        "
   ]
  },
  {
   "cell_type": "code",
   "execution_count": 16,
   "metadata": {},
   "outputs": [
    {
     "name": "stdout",
     "output_type": "stream",
     "text": [
      "22 30\n"
     ]
    }
   ],
   "source": [
    "roc1 = Rocket(12, 19)\n",
    "roc1.move_rocket()\n",
    "roc1.print_rocket()"
   ]
  },
  {
   "cell_type": "code",
   "execution_count": 11,
   "metadata": {},
   "outputs": [],
   "source": [
    "# Exercício 2 - Crie uma classe chamada Pessoa() com atributos:\n",
    "# nome, cidade, telefone e e-mail. Use pelo menos 2 métodos especiais na\n",
    "# sua classe.\n",
    "# Crie um objeto da sua classe e faça uma chamada a pelo menos um dos seus\n",
    "# métodos especiais\n"
   ]
  },
  {
   "cell_type": "code",
   "execution_count": 14,
   "metadata": {},
   "outputs": [],
   "source": [
    "class Pessoa():\n",
    "    def __init__(self, nome, cidade, telefone, email):\n",
    "        self.nome = nome\n",
    "        self.cidade = cidade\n",
    "        self.telefone = telefone\n",
    "        self.email = email\n",
    "        print(\"Objeto criado\")\n",
    "        \n",
    "    def __str__(self):\n",
    "        return \"Nome: %s, Cidade: %s, Telefone: %s, e-mail: %s\" \\\n",
    "    %(self.nome, self.cidade, self.telefone, self.email)\n",
    "    \n",
    "    def __len__(self):\n",
    "        return self.telefone"
   ]
  },
  {
   "cell_type": "code",
   "execution_count": 15,
   "metadata": {},
   "outputs": [
    {
     "name": "stdout",
     "output_type": "stream",
     "text": [
      "Nome: eu\n",
      "Cidade: vila\n",
      "Telefone: 678\n",
      "e-mail: m@gmail.com\n",
      "Objeto criado\n"
     ]
    }
   ],
   "source": [
    "nome = input('Nome: ')\n",
    "cidade = input('Cidade: ')\n",
    "telefone = int(input('Telefone: '))\n",
    "email = input('e-mail: ')\n",
    "\n",
    "\n",
    "pes1 = Pessoa(nome, cidade, telefone, email)"
   ]
  },
  {
   "cell_type": "code",
   "execution_count": 16,
   "metadata": {},
   "outputs": [
    {
     "name": "stdout",
     "output_type": "stream",
     "text": [
      "Nome: eu, Cidade: vila, Telefone: 678, e-mail: m@gmail.com\n"
     ]
    }
   ],
   "source": [
    "print(pes1)"
   ]
  },
  {
   "cell_type": "code",
   "execution_count": 17,
   "metadata": {},
   "outputs": [
    {
     "data": {
      "text/plain": [
       "678"
      ]
     },
     "execution_count": 17,
     "metadata": {},
     "output_type": "execute_result"
    }
   ],
   "source": [
    "len(pes1)"
   ]
  },
  {
   "cell_type": "code",
   "execution_count": 18,
   "metadata": {},
   "outputs": [],
   "source": [
    "#Exercício 3 - Crie a classe Smartphone com 2 atributos, \n",
    "#tamanho e interface e crie a classe MP3Player \n",
    "#com os atributos capacidade. A classe MP3player deve herdar os\n",
    "#atributos da classe Smartphone.\n",
    "\n",
    "class Smartphone():\n",
    "    def __init__(self, tamanho, interface):\n",
    "        self.tamanho = tamanho\n",
    "        self.interface = interface\n",
    "        \n",
    "\n"
   ]
  },
  {
   "cell_type": "code",
   "execution_count": 19,
   "metadata": {},
   "outputs": [
    {
     "name": "stdout",
     "output_type": "stream",
     "text": [
      "Valores para o objetivo criado: Pequeno led 64 GB\n"
     ]
    }
   ],
   "source": [
    "class MP3player(Smartphone):\n",
    "    def __init__(self, capacidade, tamanho = 'Pequeno', interface = 'led'):\n",
    "        self.capacidade = capacidade\n",
    "        Smartphone.__init__(self, tamanho, interface)\n",
    "        \n",
    "    def print_mp3player(self):\n",
    "        print(\"Valores para o objetivo criado: %s %s %s\" %(self.tamanho, self.interface, self.capacidade))\n",
    "        \n",
    "        \n",
    "device1 = MP3player('64 GB')\n",
    "device1.print_mp3player()\n",
    "    "
   ]
  },
  {
   "cell_type": "code",
   "execution_count": null,
   "metadata": {},
   "outputs": [],
   "source": []
  }
 ],
 "metadata": {
  "kernelspec": {
   "display_name": "Python 3",
   "language": "python",
   "name": "python3"
  },
  "language_info": {
   "codemirror_mode": {
    "name": "ipython",
    "version": 3
   },
   "file_extension": ".py",
   "mimetype": "text/x-python",
   "name": "python",
   "nbconvert_exporter": "python",
   "pygments_lexer": "ipython3",
   "version": "3.7.3"
  }
 },
 "nbformat": 4,
 "nbformat_minor": 2
}
