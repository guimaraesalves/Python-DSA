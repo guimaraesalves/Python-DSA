{
 "cells": [
  {
   "cell_type": "markdown",
   "metadata": {},
   "source": [
    "## Update e Delete"
   ]
  },
  {
   "cell_type": "code",
   "execution_count": 21,
   "metadata": {},
   "outputs": [],
   "source": [
    "import sqlite3\n",
    "import random\n",
    "import time\n",
    "import datetime\n",
    "\n",
    "# Criando uma conexão\n",
    "conn = sqlite3.connect('dsa.db')\n",
    "\n",
    "# Criando um cursor\n",
    "c = conn.cursor()\n",
    "\n",
    "# Função para criar uma tabela\n",
    "def create_table():\n",
    "    c.execute('create table if not exists produtos(id integer primary key autoincrement not null, date text, '\\\n",
    "              'prod_name text, valor real)')\n",
    "    \n",
    "# Função para inserir uma linha\n",
    "def data_insert():\n",
    "    c.execute(\"insert into produtos values(002, '02-05-2016', 'teclado', 130)\")\n",
    "    conn.commit()\n",
    "    c.close()\n",
    "    conn.close()\n",
    "    \n",
    "\n",
    "    \n",
    "# Usando variáveis para inserir dados\n",
    "def data_insert_var():\n",
    "    new_date = datetime.datetime.now()\n",
    "    new_prod_name = 'SQL'\n",
    "    new_valor = random.randrange(50,100)\n",
    "    c.execute(\"insert into produtos (date, prod_name, valor) values (?, ?, ?)\",\n",
    "             (new_date, new_prod_name, new_valor))\n",
    "    conn.commit()\n",
    "    \n",
    "# Leitura de dados\n",
    "def leitura_todos_dados():\n",
    "    c.execute(\"select * from produtos\")\n",
    "    for linha in c.fetchall():\n",
    "        print(linha)\n",
    "        \n",
    "\n",
    "# Leitura de colunas específicos\n",
    "def leitura_colunas():\n",
    "    c.execute(\"select * from produtos\")\n",
    "    for linha in c.fetchall():\n",
    "        print(linha[3])\n",
    "        \n",
    "        \n",
    "# Update\n",
    "def atualiza_dados():\n",
    "    c.execute(\"update produtos set prod_name = 'JavaScript' where valor = 90.0\")\n",
    "    conn.commit()\n",
    "    \n",
    "# Delete\n",
    "def remove_dados():\n",
    "    c.execute(\"delete from produtos where valor = 60.0\")\n",
    "    conn.commit()"
   ]
  },
  {
   "cell_type": "code",
   "execution_count": 22,
   "metadata": {},
   "outputs": [],
   "source": [
    "atualiza_dados()"
   ]
  },
  {
   "cell_type": "raw",
   "metadata": {},
   "source": [
    "leitura_todos_dados()"
   ]
  },
  {
   "cell_type": "markdown",
   "metadata": {},
   "source": [
    "remove_dados()"
   ]
  },
  {
   "cell_type": "code",
   "execution_count": 23,
   "metadata": {},
   "outputs": [
    {
     "name": "stdout",
     "output_type": "stream",
     "text": [
      "(10, '2020-05-02 14:32:11', 'JavaScript', 90.0)\n",
      "(11, '2021-02-23 11:08:07.456611', 'Django', 60.0)\n",
      "(12, '2021-02-23 11:08:08.580039', 'Django', 70.0)\n",
      "(13, '2021-02-23 11:08:09.721173', 'Django', 81.0)\n",
      "(14, '2021-02-23 11:08:10.796014', 'Django', 82.0)\n",
      "(15, '2021-02-23 11:08:11.854857', 'Django', 66.0)\n",
      "(16, '2021-02-23 11:08:12.971539', 'Django', 59.0)\n",
      "(17, '2021-02-23 11:08:14.054805', 'Django', 71.0)\n",
      "(18, '2021-02-23 11:08:15.171455', 'Django', 87.0)\n",
      "(19, '2021-02-23 11:08:16.313102', 'Django', 78.0)\n",
      "(20, '2021-02-23 11:08:17.413028', 'Django', 70.0)\n"
     ]
    }
   ],
   "source": [
    "leitura_todos_dados()"
   ]
  },
  {
   "cell_type": "markdown",
   "metadata": {},
   "source": [
    "## fim"
   ]
  },
  {
   "cell_type": "code",
   "execution_count": null,
   "metadata": {},
   "outputs": [],
   "source": []
  }
 ],
 "metadata": {
  "kernelspec": {
   "display_name": "Python 3",
   "language": "python",
   "name": "python3"
  },
  "language_info": {
   "codemirror_mode": {
    "name": "ipython",
    "version": 3
   },
   "file_extension": ".py",
   "mimetype": "text/x-python",
   "name": "python",
   "nbconvert_exporter": "python",
   "pygments_lexer": "ipython3",
   "version": "3.7.3"
  }
 },
 "nbformat": 4,
 "nbformat_minor": 2
}
