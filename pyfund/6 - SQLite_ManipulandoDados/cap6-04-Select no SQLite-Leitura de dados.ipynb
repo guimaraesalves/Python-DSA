{
 "cells": [
  {
   "cell_type": "markdown",
   "metadata": {},
   "source": [
    "## Leitura de dados"
   ]
  },
  {
   "cell_type": "code",
   "execution_count": 1,
   "metadata": {},
   "outputs": [
    {
     "name": "stdout",
     "output_type": "stream",
     "text": [
      "------------------------------\n"
     ]
    }
   ],
   "source": [
    "import sqlite3\n",
    "import random \n",
    "import time\n",
    "import datetime\n",
    "\n",
    "# Criando uma conexão\n",
    "conn = sqlite3.connect('dsa.db')\n",
    "\n",
    "# Criando um cursor\n",
    "c = conn.cursor()\n",
    "\n",
    "# Função para criar uma tabela\n",
    "def create_table():\n",
    "    c.execute('CREATE TABLE IF NOT EXISTS produtos(id INTEGER PRIMARY KEY AUTOINCREMENT NOT NULL, date TEXT, '\\\n",
    "              'prod_name TEXT, valor REAL)')\n",
    "    \n",
    "# Função para inserir uma linha\n",
    "def data_insert():\n",
    "    c.execute(\"INSERT INTO produtos VALUES(002, '02-05-2016', 'HTML5', 130)\")\n",
    "    conn.commit()\n",
    "    c.close()\n",
    "    conn.close()\n",
    "        \n",
    "# Usando variáveis para inserir dados\n",
    "def data_insert_var():\n",
    "    new_date = datetime.datetime.now()\n",
    "    new_prod_name = 'CSS3'\n",
    "    new_valor = random.randrange(50, 100)\n",
    "    c.execute(\"INSERT INTO produtos (date, prod_name, valor) VALUE (?, ?, ?)\",\n",
    "             (new_date, new_prod_name, new_valor))\n",
    "    conn.commit()\n",
    "    \n",
    "# Leitura de dados\n",
    "def leitura_todos_dados():\n",
    "    c.execute(\"SELECT * FROM produtos\")\n",
    "    for linha in c.fetchall():\n",
    "        print(linha)\n",
    "\n",
    "\n",
    "\n",
    "# Leitura de registros específicos\n",
    "def leitura_registros():\n",
    "    c.execute(\"SELECT * FROM PRODUTOS WHERE valor > 60.0\")\n",
    "    for linha in c.fetchall():\n",
    "        print(linha)\n",
    "        \n",
    "print('-' * 30)\n",
    "        \n",
    "        \n",
    "# Leitura de colunas específicos\n",
    "def leitura_colunas():\n",
    "    c.execute(\"SELECT * FROM PRODUTOS\")\n",
    "    for linha in c.fetchall():\n",
    "        print(linha[3])\n",
    "        \n",
    "\n",
    "    \n",
    "    \n",
    "\n",
    "        \n"
   ]
  },
  {
   "cell_type": "code",
   "execution_count": 2,
   "metadata": {},
   "outputs": [
    {
     "name": "stdout",
     "output_type": "stream",
     "text": [
      "(10, '2020-05-02 14:32:11', 'Teclado', 90.0)\n",
      "(11, '2021-02-23 11:08:07.456611', 'Django', 60.0)\n",
      "(12, '2021-02-23 11:08:08.580039', 'Django', 96.0)\n",
      "(13, '2021-02-23 11:08:09.721173', 'Django', 81.0)\n",
      "(14, '2021-02-23 11:08:10.796014', 'Django', 82.0)\n",
      "(15, '2021-02-23 11:08:11.854857', 'Django', 66.0)\n",
      "(16, '2021-02-23 11:08:12.971539', 'Django', 59.0)\n",
      "(17, '2021-02-23 11:08:14.054805', 'Django', 71.0)\n",
      "(18, '2021-02-23 11:08:15.171455', 'Django', 87.0)\n",
      "(19, '2021-02-23 11:08:16.313102', 'Django', 78.0)\n",
      "(20, '2021-02-23 11:08:17.413028', 'Django', 77.0)\n"
     ]
    }
   ],
   "source": [
    "# Select nos dados\n",
    "leitura_todos_dados()"
   ]
  },
  {
   "cell_type": "code",
   "execution_count": 3,
   "metadata": {},
   "outputs": [
    {
     "name": "stdout",
     "output_type": "stream",
     "text": [
      "(10, '2020-05-02 14:32:11', 'Teclado', 90.0)\n",
      "(12, '2021-02-23 11:08:08.580039', 'Django', 96.0)\n",
      "(13, '2021-02-23 11:08:09.721173', 'Django', 81.0)\n",
      "(14, '2021-02-23 11:08:10.796014', 'Django', 82.0)\n",
      "(15, '2021-02-23 11:08:11.854857', 'Django', 66.0)\n",
      "(17, '2021-02-23 11:08:14.054805', 'Django', 71.0)\n",
      "(18, '2021-02-23 11:08:15.171455', 'Django', 87.0)\n",
      "(19, '2021-02-23 11:08:16.313102', 'Django', 78.0)\n",
      "(20, '2021-02-23 11:08:17.413028', 'Django', 77.0)\n"
     ]
    }
   ],
   "source": [
    "# Leitura de Registros específicos\n",
    "leitura_registros()"
   ]
  },
  {
   "cell_type": "code",
   "execution_count": 4,
   "metadata": {},
   "outputs": [
    {
     "name": "stdout",
     "output_type": "stream",
     "text": [
      "90.0\n",
      "60.0\n",
      "96.0\n",
      "81.0\n",
      "82.0\n",
      "66.0\n",
      "59.0\n",
      "71.0\n",
      "87.0\n",
      "78.0\n",
      "77.0\n"
     ]
    }
   ],
   "source": [
    "# Leitura de colunas específicas\n",
    "leitura_colunas()"
   ]
  },
  {
   "cell_type": "code",
   "execution_count": 5,
   "metadata": {},
   "outputs": [],
   "source": [
    "# Encerrando a conexão\n",
    "c.close()\n",
    "conn.close()"
   ]
  },
  {
   "cell_type": "markdown",
   "metadata": {},
   "source": [
    "## fim"
   ]
  },
  {
   "cell_type": "code",
   "execution_count": null,
   "metadata": {},
   "outputs": [],
   "source": []
  }
 ],
 "metadata": {
  "kernelspec": {
   "display_name": "Python 3",
   "language": "python",
   "name": "python3"
  },
  "language_info": {
   "codemirror_mode": {
    "name": "ipython",
    "version": 3
   },
   "file_extension": ".py",
   "mimetype": "text/x-python",
   "name": "python",
   "nbconvert_exporter": "python",
   "pygments_lexer": "ipython3",
   "version": "3.7.3"
  }
 },
 "nbformat": 4,
 "nbformat_minor": 2
}
